{
 "cells": [
  {
   "cell_type": "markdown",
   "id": "2a5558cf-c7ca-480c-ba16-ceab4bc9320d",
   "metadata": {},
   "source": [
    "Que1:what is abstraction in oops ?explain with an ex"
   ]
  },
  {
   "cell_type": "markdown",
   "id": "c236fe06-6b87-4748-8738-533508ee95f8",
   "metadata": {},
   "source": [
    "Ans: Abstraction in oop is a process of hiding the real implementation of the method by only showing a method signature. in python,we can achive abstraction using ABC  (abstraction class )or abstract method."
   ]
  },
  {
   "cell_type": "code",
   "execution_count": 25,
   "id": "9d7ab204-9506-48b8-8cf8-0b2d0958619c",
   "metadata": {},
   "outputs": [
    {
     "name": "stdout",
     "output_type": "stream",
     "text": [
      "this is an child class\n",
      "this is an parent class\n"
     ]
    }
   ],
   "source": [
    "import abc\n",
    "class parent:\n",
    "    \n",
    "    @abc.abstractmethod\n",
    "    def fun1(self):\n",
    "        pass\n",
    "    \n",
    "    def fun2(self):\n",
    "        print(\"this is an parent class\")\n",
    "\n",
    "class child(parent):\n",
    "    def fun1(self):\n",
    "        print(\"this is an child class\")\n",
    "        \n",
    "obj=child()\n",
    "obj.fun1()\n",
    "obj.fun2()\n",
    "\n",
    "        \n",
    "        "
   ]
  },
  {
   "cell_type": "markdown",
   "id": "e467987b-8089-4f2e-8c6a-fbc48b144811",
   "metadata": {},
   "source": [
    "difference between abstraction and encapsulation."
   ]
  },
  {
   "cell_type": "markdown",
   "id": "e848c6df-f43d-46d5-b29f-67d684e20ddf",
   "metadata": {},
   "source": [
    "Abstraction is a design level process and it is used to reduce the complexity at the designing stage of a project.\n",
    "abstraction is outer layout in terms of design.\n",
    "for example: outer look of a iphone,like it has a display screen.\n",
    "\n",
    "Encapsulation is an implementation level process , and it is used to provide privacy and maintain control over the transparency of data at the implementation stage of a proect.\n",
    "encapsulation is inner layout in terms of implemention.\n",
    "for example: inner implementation details of a iphone ,hoe display screen are connect with each other using circuits\n"
   ]
  },
  {
   "cell_type": "markdown",
   "id": "6c2525c1-fd12-4a28-8954-611ca6a938d4",
   "metadata": {},
   "source": [
    "Que 3:what is abc module in python ?why it is used?"
   ]
  },
  {
   "cell_type": "markdown",
   "id": "ac6b1a0d-1ac0-489d-b3d2-93f5d613ff7e",
   "metadata": {},
   "source": [
    "The abc module in python library provides the infrastructure for defining custom abstract based classes.\n",
    "abstract class cannot be instantiated in python . an abstract method can be call by its subclasses."
   ]
  },
  {
   "cell_type": "markdown",
   "id": "a84dc372-eaee-4b1b-8526-caac499d02af",
   "metadata": {},
   "source": [
    "Que 4: how can we achieve data abstraction?"
   ]
  },
  {
   "cell_type": "markdown",
   "id": "9090c1fe-224a-4c22-af07-d7c25f2f51aa",
   "metadata": {},
   "source": [
    "Ans:abstraction can be achieved by using abstract classes and methods in our programs."
   ]
  },
  {
   "cell_type": "markdown",
   "id": "280f0b3c-93b1-4091-a10c-1be375cb18c5",
   "metadata": {},
   "source": [
    "Que5: can we create an instance of an abstract class?"
   ]
  },
  {
   "cell_type": "markdown",
   "id": "301195d2-75df-49c3-ba22-4e4d002127a1",
   "metadata": {},
   "source": [
    "Ans: Abstract classes can not be instantiated,but they can be subclasses. when an abstract class is subclasses ,the subclass usually provides implementation for all of the abstract methods in its parent class."
   ]
  },
  {
   "cell_type": "code",
   "execution_count": null,
   "id": "f3b3c3a7-9be3-4406-9b64-7d0164de8cea",
   "metadata": {},
   "outputs": [],
   "source": []
  }
 ],
 "metadata": {
  "kernelspec": {
   "display_name": "Python 3 (ipykernel)",
   "language": "python",
   "name": "python3"
  },
  "language_info": {
   "codemirror_mode": {
    "name": "ipython",
    "version": 3
   },
   "file_extension": ".py",
   "mimetype": "text/x-python",
   "name": "python",
   "nbconvert_exporter": "python",
   "pygments_lexer": "ipython3",
   "version": "3.10.8"
  }
 },
 "nbformat": 4,
 "nbformat_minor": 5
}
